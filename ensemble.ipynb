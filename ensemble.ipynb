{
 "metadata": {
  "language_info": {
   "codemirror_mode": {
    "name": "ipython",
    "version": 3
   },
   "file_extension": ".py",
   "mimetype": "text/x-python",
   "name": "python",
   "nbconvert_exporter": "python",
   "pygments_lexer": "ipython3",
   "version": "3.8.5"
  },
  "orig_nbformat": 2,
  "kernelspec": {
   "name": "python385jvsc74a57bd03832cb38c4fd99123b40ec84fe6dee7058b1e683c1de6c2b61107f81703454ed",
   "display_name": "Python 3.8.5 64-bit"
  },
  "metadata": {
   "interpreter": {
    "hash": "3832cb38c4fd99123b40ec84fe6dee7058b1e683c1de6c2b61107f81703454ed"
   }
  }
 },
 "nbformat": 4,
 "nbformat_minor": 2,
 "cells": [
  {
   "cell_type": "code",
   "execution_count": 1,
   "metadata": {},
   "outputs": [],
   "source": [
    "import pandas as pd"
   ]
  },
  {
   "cell_type": "code",
   "execution_count": 29,
   "metadata": {},
   "outputs": [],
   "source": [
    "csv1 = pd.read_csv('output.csv')"
   ]
  },
  {
   "cell_type": "code",
   "execution_count": 30,
   "metadata": {},
   "outputs": [],
   "source": [
    "csv2 = pd.read_csv('output (1).csv')"
   ]
  },
  {
   "cell_type": "code",
   "execution_count": 31,
   "metadata": {},
   "outputs": [],
   "source": [
    "en = csv1.merge(csv2, on='customer_id')"
   ]
  },
  {
   "cell_type": "code",
   "execution_count": 32,
   "metadata": {},
   "outputs": [
    {
     "output_type": "execute_result",
     "data": {
      "text/plain": [
       "      customer_id  probability_x  probability_y\n",
       "0           12346       0.068813       0.164782\n",
       "1           12347       0.243401       0.171005\n",
       "2           12348       0.146345       0.132219\n",
       "3           12349       0.197283       0.393062\n",
       "4           12350       0.064037       0.030177\n",
       "...           ...            ...            ...\n",
       "5909        18283       0.563472       0.642373\n",
       "5910        18284       0.058794       0.071506\n",
       "5911        18285       0.032699       0.044079\n",
       "5912        18286       0.054138       0.041847\n",
       "5913        18287       0.159722       0.145268\n",
       "\n",
       "[5914 rows x 3 columns]"
      ],
      "text/html": "<div>\n<style scoped>\n    .dataframe tbody tr th:only-of-type {\n        vertical-align: middle;\n    }\n\n    .dataframe tbody tr th {\n        vertical-align: top;\n    }\n\n    .dataframe thead th {\n        text-align: right;\n    }\n</style>\n<table border=\"1\" class=\"dataframe\">\n  <thead>\n    <tr style=\"text-align: right;\">\n      <th></th>\n      <th>customer_id</th>\n      <th>probability_x</th>\n      <th>probability_y</th>\n    </tr>\n  </thead>\n  <tbody>\n    <tr>\n      <th>0</th>\n      <td>12346</td>\n      <td>0.068813</td>\n      <td>0.164782</td>\n    </tr>\n    <tr>\n      <th>1</th>\n      <td>12347</td>\n      <td>0.243401</td>\n      <td>0.171005</td>\n    </tr>\n    <tr>\n      <th>2</th>\n      <td>12348</td>\n      <td>0.146345</td>\n      <td>0.132219</td>\n    </tr>\n    <tr>\n      <th>3</th>\n      <td>12349</td>\n      <td>0.197283</td>\n      <td>0.393062</td>\n    </tr>\n    <tr>\n      <th>4</th>\n      <td>12350</td>\n      <td>0.064037</td>\n      <td>0.030177</td>\n    </tr>\n    <tr>\n      <th>...</th>\n      <td>...</td>\n      <td>...</td>\n      <td>...</td>\n    </tr>\n    <tr>\n      <th>5909</th>\n      <td>18283</td>\n      <td>0.563472</td>\n      <td>0.642373</td>\n    </tr>\n    <tr>\n      <th>5910</th>\n      <td>18284</td>\n      <td>0.058794</td>\n      <td>0.071506</td>\n    </tr>\n    <tr>\n      <th>5911</th>\n      <td>18285</td>\n      <td>0.032699</td>\n      <td>0.044079</td>\n    </tr>\n    <tr>\n      <th>5912</th>\n      <td>18286</td>\n      <td>0.054138</td>\n      <td>0.041847</td>\n    </tr>\n    <tr>\n      <th>5913</th>\n      <td>18287</td>\n      <td>0.159722</td>\n      <td>0.145268</td>\n    </tr>\n  </tbody>\n</table>\n<p>5914 rows × 3 columns</p>\n</div>"
     },
     "metadata": {},
     "execution_count": 32
    }
   ],
   "source": [
    "en"
   ]
  },
  {
   "cell_type": "code",
   "execution_count": 35,
   "metadata": {},
   "outputs": [],
   "source": [
    "col = en.loc[:, 'probability_x':'probability_y']\n",
    "\n",
    "en['probability'] = col.mean(axis=1)"
   ]
  },
  {
   "cell_type": "code",
   "execution_count": 36,
   "metadata": {},
   "outputs": [
    {
     "output_type": "execute_result",
     "data": {
      "text/plain": [
       "      customer_id  probability_x  probability_y  probability\n",
       "0           12346       0.068813       0.164782     0.116797\n",
       "1           12347       0.243401       0.171005     0.207203\n",
       "2           12348       0.146345       0.132219     0.139282\n",
       "3           12349       0.197283       0.393062     0.295173\n",
       "4           12350       0.064037       0.030177     0.047107\n",
       "...           ...            ...            ...          ...\n",
       "5909        18283       0.563472       0.642373     0.602923\n",
       "5910        18284       0.058794       0.071506     0.065150\n",
       "5911        18285       0.032699       0.044079     0.038389\n",
       "5912        18286       0.054138       0.041847     0.047993\n",
       "5913        18287       0.159722       0.145268     0.152495\n",
       "\n",
       "[5914 rows x 4 columns]"
      ],
      "text/html": "<div>\n<style scoped>\n    .dataframe tbody tr th:only-of-type {\n        vertical-align: middle;\n    }\n\n    .dataframe tbody tr th {\n        vertical-align: top;\n    }\n\n    .dataframe thead th {\n        text-align: right;\n    }\n</style>\n<table border=\"1\" class=\"dataframe\">\n  <thead>\n    <tr style=\"text-align: right;\">\n      <th></th>\n      <th>customer_id</th>\n      <th>probability_x</th>\n      <th>probability_y</th>\n      <th>probability</th>\n    </tr>\n  </thead>\n  <tbody>\n    <tr>\n      <th>0</th>\n      <td>12346</td>\n      <td>0.068813</td>\n      <td>0.164782</td>\n      <td>0.116797</td>\n    </tr>\n    <tr>\n      <th>1</th>\n      <td>12347</td>\n      <td>0.243401</td>\n      <td>0.171005</td>\n      <td>0.207203</td>\n    </tr>\n    <tr>\n      <th>2</th>\n      <td>12348</td>\n      <td>0.146345</td>\n      <td>0.132219</td>\n      <td>0.139282</td>\n    </tr>\n    <tr>\n      <th>3</th>\n      <td>12349</td>\n      <td>0.197283</td>\n      <td>0.393062</td>\n      <td>0.295173</td>\n    </tr>\n    <tr>\n      <th>4</th>\n      <td>12350</td>\n      <td>0.064037</td>\n      <td>0.030177</td>\n      <td>0.047107</td>\n    </tr>\n    <tr>\n      <th>...</th>\n      <td>...</td>\n      <td>...</td>\n      <td>...</td>\n      <td>...</td>\n    </tr>\n    <tr>\n      <th>5909</th>\n      <td>18283</td>\n      <td>0.563472</td>\n      <td>0.642373</td>\n      <td>0.602923</td>\n    </tr>\n    <tr>\n      <th>5910</th>\n      <td>18284</td>\n      <td>0.058794</td>\n      <td>0.071506</td>\n      <td>0.065150</td>\n    </tr>\n    <tr>\n      <th>5911</th>\n      <td>18285</td>\n      <td>0.032699</td>\n      <td>0.044079</td>\n      <td>0.038389</td>\n    </tr>\n    <tr>\n      <th>5912</th>\n      <td>18286</td>\n      <td>0.054138</td>\n      <td>0.041847</td>\n      <td>0.047993</td>\n    </tr>\n    <tr>\n      <th>5913</th>\n      <td>18287</td>\n      <td>0.159722</td>\n      <td>0.145268</td>\n      <td>0.152495</td>\n    </tr>\n  </tbody>\n</table>\n<p>5914 rows × 4 columns</p>\n</div>"
     },
     "metadata": {},
     "execution_count": 36
    }
   ],
   "source": [
    "en"
   ]
  },
  {
   "cell_type": "code",
   "execution_count": 37,
   "metadata": {},
   "outputs": [],
   "source": [
    "del en['probability_x']"
   ]
  },
  {
   "cell_type": "code",
   "execution_count": 39,
   "metadata": {},
   "outputs": [],
   "source": [
    "del en['probability_y']"
   ]
  },
  {
   "cell_type": "code",
   "execution_count": 40,
   "metadata": {},
   "outputs": [
    {
     "output_type": "execute_result",
     "data": {
      "text/plain": [
       "      customer_id  probability\n",
       "0           12346     0.116797\n",
       "1           12347     0.207203\n",
       "2           12348     0.139282\n",
       "3           12349     0.295173\n",
       "4           12350     0.047107\n",
       "...           ...          ...\n",
       "5909        18283     0.602923\n",
       "5910        18284     0.065150\n",
       "5911        18285     0.038389\n",
       "5912        18286     0.047993\n",
       "5913        18287     0.152495\n",
       "\n",
       "[5914 rows x 2 columns]"
      ],
      "text/html": "<div>\n<style scoped>\n    .dataframe tbody tr th:only-of-type {\n        vertical-align: middle;\n    }\n\n    .dataframe tbody tr th {\n        vertical-align: top;\n    }\n\n    .dataframe thead th {\n        text-align: right;\n    }\n</style>\n<table border=\"1\" class=\"dataframe\">\n  <thead>\n    <tr style=\"text-align: right;\">\n      <th></th>\n      <th>customer_id</th>\n      <th>probability</th>\n    </tr>\n  </thead>\n  <tbody>\n    <tr>\n      <th>0</th>\n      <td>12346</td>\n      <td>0.116797</td>\n    </tr>\n    <tr>\n      <th>1</th>\n      <td>12347</td>\n      <td>0.207203</td>\n    </tr>\n    <tr>\n      <th>2</th>\n      <td>12348</td>\n      <td>0.139282</td>\n    </tr>\n    <tr>\n      <th>3</th>\n      <td>12349</td>\n      <td>0.295173</td>\n    </tr>\n    <tr>\n      <th>4</th>\n      <td>12350</td>\n      <td>0.047107</td>\n    </tr>\n    <tr>\n      <th>...</th>\n      <td>...</td>\n      <td>...</td>\n    </tr>\n    <tr>\n      <th>5909</th>\n      <td>18283</td>\n      <td>0.602923</td>\n    </tr>\n    <tr>\n      <th>5910</th>\n      <td>18284</td>\n      <td>0.065150</td>\n    </tr>\n    <tr>\n      <th>5911</th>\n      <td>18285</td>\n      <td>0.038389</td>\n    </tr>\n    <tr>\n      <th>5912</th>\n      <td>18286</td>\n      <td>0.047993</td>\n    </tr>\n    <tr>\n      <th>5913</th>\n      <td>18287</td>\n      <td>0.152495</td>\n    </tr>\n  </tbody>\n</table>\n<p>5914 rows × 2 columns</p>\n</div>"
     },
     "metadata": {},
     "execution_count": 40
    }
   ],
   "source": [
    "en"
   ]
  },
  {
   "cell_type": "code",
   "execution_count": 45,
   "metadata": {},
   "outputs": [],
   "source": [
    "en.to_csv('./ensemble.csv', index=False)"
   ]
  },
  {
   "cell_type": "code",
   "execution_count": null,
   "metadata": {},
   "outputs": [],
   "source": []
  }
 ]
}